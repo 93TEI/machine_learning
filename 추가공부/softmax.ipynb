{
 "cells": [
  {
   "cell_type": "code",
   "execution_count": null,
   "metadata": {},
   "outputs": [],
   "source": [
    "# 바이너리 클래시피케이션이 아닌 멀티노미얼 클래시피케이션은 바이너리 여러개로 구성\n",
    "# one-got ENCODING : 0~1 사이로 만들고 그것은 곧 확률로서 존재하는데 가장 높은 확률을 1로 만들고 나머지를 0으로 만드는 것\n",
    "# cross ENTROPY : 예측값과 실제값을 크로스 엔트로피 함수로 구한다.\n",
    "# -> cost가 0 : 정답, 무한대 : 틀린 예측\n",
    "# 이렇게 전체를 해준 것을 더해서 평균내야함\n",
    "\n",
    "# Softmax : n개의 멀티 클래시피케이션에 좋음\n",
    "# 소프트맥스를 통과시키면 확률로 나옴 ex. 0.7 , 0.2 , 0.1\n",
    "import tensorflow as tf\n",
    "\n",
    "\n"
   ]
  }
 ],
 "metadata": {
  "kernelspec": {
   "display_name": "Python 3",
   "language": "python",
   "name": "python3"
  },
  "language_info": {
   "codemirror_mode": {
    "name": "ipython",
    "version": 3
   },
   "file_extension": ".py",
   "mimetype": "text/x-python",
   "name": "python",
   "nbconvert_exporter": "python",
   "pygments_lexer": "ipython3",
   "version": "3.7.3"
  }
 },
 "nbformat": 4,
 "nbformat_minor": 2
}
