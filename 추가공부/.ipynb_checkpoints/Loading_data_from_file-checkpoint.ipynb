{
 "cells": [
  {
   "cell_type": "code",
   "execution_count": 8,
   "metadata": {},
   "outputs": [
    {
     "name": "stdout",
     "output_type": "stream",
     "text": [
      "(6, 3) [[ 73.  80.  75.]\n",
      " [ 93.  88.  93.]\n",
      " [ 89.  91.  90.]\n",
      " [ 96.  98. 100.]\n",
      " [ 73.  66.  70.]\n",
      " [ 53.  46.  55.]] 6\n",
      "(6, 1) [[152.]\n",
      " [185.]\n",
      " [180.]\n",
      " [196.]\n",
      " [142.]\n",
      " [101.]]\n"
     ]
    }
   ],
   "source": [
    "import numpy as np\n",
    "\n",
    "xy = np.loadtxt('data-01-test-score.csv',delimiter=',', dtype=np.float32)\n",
    "x_data = xy[:,0:-1] # 2차원 리스트의 인덱싱 // 전체 열의, 0:-1을 가져와라\n",
    "y_data = xy[:,[-1]]\n",
    "\n",
    "print(x_data.shape, x_data, len(x_data))\n",
    "print(y_data.shape, y_data)"
   ]
  },
  {
   "cell_type": "code",
   "execution_count": 9,
   "metadata": {},
   "outputs": [
    {
     "data": {
      "text/plain": [
       "\"\\n#1\\nfilename_queue = tf.train.string_input_producer(['file1','file2',...],shuffle=False, name='filename_queue')\\n\\n#2\\nreader = tf.TextLineReader()\\nkey, value = reader.read(filename_queue)\\n\\n#3\\nrecord_defaults = [[0.],[0.],[0.],[0.]] #float이라 0.으로 넣음\\nxy = tf.decode_csv(value, record_defaults=record_defaults)\\n\\ntrain_x_batch, train_y_batch =     tf.train.batch([xy[0:-1],xy[-1:]], batch_size=10) # x, y, 한번에 10개씩\\n\\nsess ...\\n\""
      ]
     },
     "execution_count": 9,
     "metadata": {},
     "output_type": "execute_result"
    }
   ],
   "source": [
    "# 큐 러너 ( Queue runner)\n",
    "# 많은 파일을 로드해서 쓸 때 유용\n",
    "\n",
    "'''\n",
    "#1\n",
    "filename_queue = tf.train.string_input_producer(['file1','file2',...],shuffle=False, name='filename_queue')\n",
    "\n",
    "#2\n",
    "reader = tf.TextLineReader()\n",
    "key, value = reader.read(filename_queue)\n",
    "\n",
    "#3\n",
    "record_defaults = [[0.],[0.],[0.],[0.]] #float이라 0.으로 넣음\n",
    "xy = tf.decode_csv(value, record_defaults=record_defaults)\n",
    "\n",
    "#이것들 역시 텐서\n",
    "train_x_batch, train_y_batch = \\ \n",
    "    tf.train.batch([xy[0:-1],xy[-1:]], batch_size=10) # x, y, 한번에 10개씩\n",
    "\n",
    "sess ...\n",
    "\n",
    "coord = tf.train.Coordinator()\n",
    "threads = tf.train.start_queue_runners(sess=sess, coord=coord)\n",
    "\n",
    "for step ..\n",
    "\n",
    "coord.request_stop()\n",
    "coord.join(threads)\n",
    "\n",
    "'''"
   ]
  },
  {
   "cell_type": "code",
   "execution_count": null,
   "metadata": {},
   "outputs": [],
   "source": []
  }
 ],
 "metadata": {
  "kernelspec": {
   "display_name": "Python 3",
   "language": "python",
   "name": "python3"
  },
  "language_info": {
   "codemirror_mode": {
    "name": "ipython",
    "version": 3
   },
   "file_extension": ".py",
   "mimetype": "text/x-python",
   "name": "python",
   "nbconvert_exporter": "python",
   "pygments_lexer": "ipython3",
   "version": "3.7.3"
  }
 },
 "nbformat": 4,
 "nbformat_minor": 2
}
