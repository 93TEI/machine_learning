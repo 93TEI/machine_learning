{
 "cells": [
  {
   "cell_type": "code",
   "execution_count": 7,
   "metadata": {},
   "outputs": [],
   "source": [
    "# Computational Graph\n",
    "# a,b라는 노드가 있고 '+'(더하기)라는 노드로 연결되는 그래프\n",
    "\n",
    "import tensorflow as tf\n",
    "\n",
    "#그래프 빌드 과정\n",
    "node1 = tf.constant(3.0, tf.float32)\n",
    "node2 = tf.constant(4.0)\n",
    "node3 = tf.add(node1,node2)"
   ]
  },
  {
   "cell_type": "code",
   "execution_count": 9,
   "metadata": {},
   "outputs": [
    {
     "name": "stdout",
     "output_type": "stream",
     "text": [
      "node1: Tensor(\"Const_2:0\", shape=(), dtype=float32) node2: Tensor(\"Const_3:0\", shape=(), dtype=float32)\n",
      "node3: Tensor(\"Add_1:0\", shape=(), dtype=float32)\n"
     ]
    }
   ],
   "source": [
    "#print로는 찍히지 않는 모습\n",
    "print(\"node1:\",node1, \"node2:\", node2)\n",
    "print(\"node3:\",node3)"
   ]
  },
  {
   "cell_type": "code",
   "execution_count": 10,
   "metadata": {},
   "outputs": [
    {
     "name": "stdout",
     "output_type": "stream",
     "text": [
      "sess.run(node1,node2): (3.0, 4.0)\n",
      "sess.run(node3): 7.0\n"
     ]
    }
   ],
   "source": [
    "# run\n",
    "sess = tf.compat.v1.Session() # tf.session()인데 이제 이걸로 바뀜\n",
    "print(\"sess.run(node1,node2):\", sess.run((node1,node2)))\n",
    "print(\"sess.run(node3):\",sess.run(node3))"
   ]
  },
  {
   "cell_type": "code",
   "execution_count": 15,
   "metadata": {},
   "outputs": [
    {
     "name": "stdout",
     "output_type": "stream",
     "text": [
      "10.5\n",
      "[ 8. 11.]\n"
     ]
    }
   ],
   "source": [
    "# 상수가 아닌 실행할 때 변수로 값을 던져주고 싶다.\n",
    "# -> Placeholder\n",
    "\n",
    "a = tf.placeholder(tf.float32)\n",
    "b = tf.placeholder(tf.float32)\n",
    "c = tf.placeholder(tf.float32)\n",
    "adder_node = a + b + c\n",
    "\n",
    "print(sess.run(adder_node, feed_dict = {a: 3, b: 4.5, c : 3}))\n",
    "print(sess.run(adder_node, feed_dict = {a: [1,3], b: [2,4], c: [5,4]}))"
   ]
  },
  {
   "cell_type": "code",
   "execution_count": null,
   "metadata": {},
   "outputs": [],
   "source": []
  }
 ],
 "metadata": {
  "kernelspec": {
   "display_name": "Python 3",
   "language": "python",
   "name": "python3"
  },
  "language_info": {
   "codemirror_mode": {
    "name": "ipython",
    "version": 3
   },
   "file_extension": ".py",
   "mimetype": "text/x-python",
   "name": "python",
   "nbconvert_exporter": "python",
   "pygments_lexer": "ipython3",
   "version": "3.7.3"
  }
 },
 "nbformat": 4,
 "nbformat_minor": 2
}
