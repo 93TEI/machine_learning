{
 "cells": [
  {
   "cell_type": "code",
   "execution_count": null,
   "metadata": {},
   "outputs": [],
   "source": [
    "#동물 특징에 따른 분류\n",
    "xy = np.loadtxt.('data-04-zoo.csv',delimiter=',',dtype=np.float32)\n",
    "x_data = xy[:,0:-1]\n",
    "y_data = xy[:,[-1]]\n",
    "\n",
    "nb_classes = 7 # 0~6\n",
    "\n",
    "Y = tf.placeholder(tf.int32, [None,1]) # 0~6 의 범위이기 때문에 onehot으로 바꿔야함\n",
    "Y_one_hot = tf.one_hot(Y, nb_classes) # nb_classes는 7개 있다고 줄것\n",
    "#one hot은 rank가 n이면 output은 n+1이다. 1차원 -> 2차원나옴\n",
    "#원하는 모양으로 다시 리쉐입해줌\n",
    "Y_one_hot = tf.reshape(Y_one_hot,[-1,nb_classes]) # -1은 나머지 모두라는 뜻\n",
    "\n",
    "W = tf.Variable(tf.random_normal([16, nb_classes]), name='weight')\n",
    "b = tf.Variable(tf.random_normal([nb_classes]),name='bias')\n",
    "\n",
    "logits = tf.matmul(X,W) + b\n",
    "hypothesis = tf.nn.softmax(logits)\n",
    "\n",
    "#저번시간 식을 그대로 대입\n",
    "cost = tf.reduce_mean(-tf.reduce_mean(Y * tf.log(hypothesis),axis=1))\n",
    "\n",
    "cost_i = tf.nn.softmax_cross_entropy_with_logits(logits=logits,lables=Y_one_hot)\n",
    "cost = tf.reduce_mean(cost_i) # 위 cost와 동일하다고 함\n",
    "\n",
    "#cost를 최소화 시키기\n",
    "optimizer = tf.train.GradientDescentOptimizer(learning_rate=0.1).minimize(cost)\n",
    "\n",
    "prediction = tf.argmax(hypothesis,1) # 확률을 진짜 나온 값으로, 확률 -> 0~6 사이 값으로\n",
    "correct_prediction = tf.equal(prediction, tf.argmax(Y_one_hot),1)\n",
    "accuracy = tf.reduce_mean(tf.cast(correct_prediction,tf.float32))\n",
    "\n",
    "#실행\n",
    "with tf.compat.v1.Sesstion() as sess :\n",
    "    sess.run(optimizer, feed_dict={X:x_data, Y: y_data})\n",
    "    \n",
    "    for step in range(2000):\n",
    "        if step % 100 == 0 :\n",
    "            loss, acc = sess.run([cost, accuracy],feed_dict={X;x_data, Y:y_data})\n",
    "            print(\"Step: {:5}\\tLostt: {:.3f}\\tAcc:{:.2%}\".format(step, loss, acc))\n",
    "    pred = sess.run(prediction, feed_dict={X:x_data})\n",
    "    for p, y in zip(pred, y_data.flatten()):\n",
    "        print(\"[{}] Prediction: {} True Y: {}\".format(p == int(y), p, int(y)))"
   ]
  }
 ],
 "metadata": {
  "kernelspec": {
   "display_name": "Python 3",
   "language": "python",
   "name": "python3"
  },
  "language_info": {
   "codemirror_mode": {
    "name": "ipython",
    "version": 3
   },
   "file_extension": ".py",
   "mimetype": "text/x-python",
   "name": "python",
   "nbconvert_exporter": "python",
   "pygments_lexer": "ipython3",
   "version": "3.7.3"
  }
 },
 "nbformat": 4,
 "nbformat_minor": 2
}
