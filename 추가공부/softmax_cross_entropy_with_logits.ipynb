{
 "cells": [
  {
   "cell_type": "code",
   "execution_count": null,
   "metadata": {},
   "outputs": [],
   "source": [
    "#동물 특징에 따른 분류\n",
    "xy = np.loadtxt.('data-04-zoo.csv',delimiter=',',dtype=np.float32)\n",
    "x_data = xy[:,0:-1]\n",
    "y_data = xy[:,[-1]]\n",
    "\n",
    "Y = tf.placeholder(tf.int32, [None,1]) # 0~6 의 범위이기 때문에 onehot으로 바꿔야함\n",
    "Y_one_hot = tf.one_got(Y, nb_classes) \n",
    "\n",
    "\n",
    "logits = tf.matmul(X,W) + b\n",
    "hypothesis = tf.nn.softmax(logits)\n",
    "\n",
    "#저번시간 식을 그대로 대입\n",
    "cost = tf.reduce_mean(-tf.reduce_mean(Y * tf.log(hypothesis),axis=1))\n",
    "\n",
    "cost_i = tf.nn.softmax_cross_entropy_with_logits(logits=logits,lables=Y_one_hot)\n",
    "cost = tf.reduce_mean(cost_i) # 위 cost와 동일하다고 함\n",
    "\n"
   ]
  }
 ],
 "metadata": {
  "kernelspec": {
   "display_name": "Python 3",
   "language": "python",
   "name": "python3"
  },
  "language_info": {
   "codemirror_mode": {
    "name": "ipython",
    "version": 3
   },
   "file_extension": ".py",
   "mimetype": "text/x-python",
   "name": "python",
   "nbconvert_exporter": "python",
   "pygments_lexer": "ipython3",
   "version": "3.7.3"
  }
 },
 "nbformat": 4,
 "nbformat_minor": 2
}
